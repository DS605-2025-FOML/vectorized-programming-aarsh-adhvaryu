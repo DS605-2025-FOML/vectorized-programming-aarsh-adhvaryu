{
 "cells": [
  {
   "cell_type": "code",
   "execution_count": 54,
   "id": "bad41fa2",
   "metadata": {},
   "outputs": [],
   "source": [
    "import pandas as pd\n",
    "import numpy as np"
   ]
  },
  {
   "cell_type": "code",
   "execution_count": 55,
   "id": "0a2e1a66",
   "metadata": {},
   "outputs": [
    {
     "data": {
      "text/html": [
       "<div>\n",
       "<style scoped>\n",
       "    .dataframe tbody tr th:only-of-type {\n",
       "        vertical-align: middle;\n",
       "    }\n",
       "\n",
       "    .dataframe tbody tr th {\n",
       "        vertical-align: top;\n",
       "    }\n",
       "\n",
       "    .dataframe thead th {\n",
       "        text-align: right;\n",
       "    }\n",
       "</style>\n",
       "<table border=\"1\" class=\"dataframe\">\n",
       "  <thead>\n",
       "    <tr style=\"text-align: right;\">\n",
       "      <th></th>\n",
       "      <th>PassengerId</th>\n",
       "      <th>Survived</th>\n",
       "      <th>Pclass</th>\n",
       "      <th>Name</th>\n",
       "      <th>Sex</th>\n",
       "      <th>Age</th>\n",
       "      <th>SibSp</th>\n",
       "      <th>Parch</th>\n",
       "      <th>Ticket</th>\n",
       "      <th>Fare</th>\n",
       "      <th>Cabin</th>\n",
       "      <th>Embarked</th>\n",
       "    </tr>\n",
       "  </thead>\n",
       "  <tbody>\n",
       "    <tr>\n",
       "      <th>0</th>\n",
       "      <td>1</td>\n",
       "      <td>0</td>\n",
       "      <td>3</td>\n",
       "      <td>Braund, Mr. Owen Harris</td>\n",
       "      <td>male</td>\n",
       "      <td>22.0</td>\n",
       "      <td>1</td>\n",
       "      <td>0</td>\n",
       "      <td>A/5 21171</td>\n",
       "      <td>7.2500</td>\n",
       "      <td>NaN</td>\n",
       "      <td>S</td>\n",
       "    </tr>\n",
       "    <tr>\n",
       "      <th>1</th>\n",
       "      <td>2</td>\n",
       "      <td>1</td>\n",
       "      <td>1</td>\n",
       "      <td>Cumings, Mrs. John Bradley (Florence Briggs Th...</td>\n",
       "      <td>female</td>\n",
       "      <td>38.0</td>\n",
       "      <td>1</td>\n",
       "      <td>0</td>\n",
       "      <td>PC 17599</td>\n",
       "      <td>71.2833</td>\n",
       "      <td>C85</td>\n",
       "      <td>C</td>\n",
       "    </tr>\n",
       "    <tr>\n",
       "      <th>2</th>\n",
       "      <td>3</td>\n",
       "      <td>1</td>\n",
       "      <td>3</td>\n",
       "      <td>Heikkinen, Miss. Laina</td>\n",
       "      <td>female</td>\n",
       "      <td>26.0</td>\n",
       "      <td>0</td>\n",
       "      <td>0</td>\n",
       "      <td>STON/O2. 3101282</td>\n",
       "      <td>7.9250</td>\n",
       "      <td>NaN</td>\n",
       "      <td>S</td>\n",
       "    </tr>\n",
       "    <tr>\n",
       "      <th>3</th>\n",
       "      <td>4</td>\n",
       "      <td>1</td>\n",
       "      <td>1</td>\n",
       "      <td>Futrelle, Mrs. Jacques Heath (Lily May Peel)</td>\n",
       "      <td>female</td>\n",
       "      <td>35.0</td>\n",
       "      <td>1</td>\n",
       "      <td>0</td>\n",
       "      <td>113803</td>\n",
       "      <td>53.1000</td>\n",
       "      <td>C123</td>\n",
       "      <td>S</td>\n",
       "    </tr>\n",
       "    <tr>\n",
       "      <th>4</th>\n",
       "      <td>5</td>\n",
       "      <td>0</td>\n",
       "      <td>3</td>\n",
       "      <td>Allen, Mr. William Henry</td>\n",
       "      <td>male</td>\n",
       "      <td>35.0</td>\n",
       "      <td>0</td>\n",
       "      <td>0</td>\n",
       "      <td>373450</td>\n",
       "      <td>8.0500</td>\n",
       "      <td>NaN</td>\n",
       "      <td>S</td>\n",
       "    </tr>\n",
       "  </tbody>\n",
       "</table>\n",
       "</div>"
      ],
      "text/plain": [
       "   PassengerId  Survived  Pclass  \\\n",
       "0            1         0       3   \n",
       "1            2         1       1   \n",
       "2            3         1       3   \n",
       "3            4         1       1   \n",
       "4            5         0       3   \n",
       "\n",
       "                                                Name     Sex   Age  SibSp  \\\n",
       "0                            Braund, Mr. Owen Harris    male  22.0      1   \n",
       "1  Cumings, Mrs. John Bradley (Florence Briggs Th...  female  38.0      1   \n",
       "2                             Heikkinen, Miss. Laina  female  26.0      0   \n",
       "3       Futrelle, Mrs. Jacques Heath (Lily May Peel)  female  35.0      1   \n",
       "4                           Allen, Mr. William Henry    male  35.0      0   \n",
       "\n",
       "   Parch            Ticket     Fare Cabin Embarked  \n",
       "0      0         A/5 21171   7.2500   NaN        S  \n",
       "1      0          PC 17599  71.2833   C85        C  \n",
       "2      0  STON/O2. 3101282   7.9250   NaN        S  \n",
       "3      0            113803  53.1000  C123        S  \n",
       "4      0            373450   8.0500   NaN        S  "
      ]
     },
     "execution_count": 55,
     "metadata": {},
     "output_type": "execute_result"
    }
   ],
   "source": [
    "url = \"https://raw.githubusercontent.com/datasciencedojo/datasets/master/titanic.csv\"\n",
    "df = pd.read_csv(url)\n",
    "\n",
    "df.head()"
   ]
  },
  {
   "cell_type": "markdown",
   "id": "f5e3d612",
   "metadata": {},
   "source": [
    "1. Array Creation and Manipulation: <br>\n",
    "○ Load the Age and Fare columns into two separate NumPy arrays, ages and fares. <br>\n",
    "○ The ages array has missing values (NaN). Create a new array cleaned_ages where all NaN \n",
    "values are replaced with the median age of the passengers. <br>\n",
    "○ Create a new array fares_in_euros by converting the fares (which are in British Pounds) to \n",
    "Euros. Assume an exchange rate of 1 Pound = 1.18 Euros. <br>"
   ]
  },
  {
   "cell_type": "code",
   "execution_count": 56,
   "id": "da654bbc",
   "metadata": {},
   "outputs": [
    {
     "name": "stdout",
     "output_type": "stream",
     "text": [
      "[ 8.555    84.114294  9.3515   62.658     9.499     9.980794 61.19775\n",
      " 24.8685   13.137294 35.483544 19.706    31.329     9.499    36.9045\n",
      "  9.267956 18.88     34.3675   15.34     21.24      8.5255  ]  \n",
      "\n",
      "[22. 38. 26. 35. 35. 28. 54.  2. 27. 14.  4. 58. 20. 39. 14. 55.  2. 28.\n",
      " 31. 28. 35. 34. 15. 28.  8.]\n"
     ]
    }
   ],
   "source": [
    "ages = df['Age'].to_numpy()\n",
    "fares = df['Fare'].to_numpy()\n",
    "\n",
    "\n",
    "median_age = np.nanmedian(ages)   # median ignoring NaN\n",
    "cleaned_ages = np.where(np.isnan(ages), median_age, ages)\n",
    "\n",
    "fares_in_euros = fares * 1.18\n",
    "\n",
    "print(fares_in_euros[:20],\" \\n\")\n",
    "\n",
    "print(cleaned_ages[:25])"
   ]
  },
  {
   "cell_type": "markdown",
   "id": "72fc669b",
   "metadata": {},
   "source": [
    "2. Statistical Analysis: <br>\n",
    "○ Using NumPy, calculate and print the following statistics for the cleaned_ages array: \n",
    "<br>■ Average age<br> \n",
    "■ Standard deviation<br> \n",
    "■ The age of the oldest passenger <br>\n",
    "■ The age of the youngest passenger \n"
   ]
  },
  {
   "cell_type": "code",
   "execution_count": 57,
   "id": "825a7327",
   "metadata": {},
   "outputs": [
    {
     "name": "stdout",
     "output_type": "stream",
     "text": [
      "Average Age: 29.36158249158249\n",
      "Standard Deviation of Age: 13.012388272793666\n",
      "Oldest Passenger Age: 80.0\n",
      "Youngest Passenger Age: 0.42\n"
     ]
    }
   ],
   "source": [
    "average_age = np.mean(cleaned_ages)\n",
    "std_dev_age = np.std(cleaned_ages)\n",
    "oldest_age = np.max(cleaned_ages)\n",
    "youngest_age = np.min(cleaned_ages)\n",
    "\n",
    "print(\"Average Age:\", average_age)\n",
    "print(\"Standard Deviation of Age:\", std_dev_age)\n",
    "print(\"Oldest Passenger Age:\", oldest_age)\n",
    "print(\"Youngest Passenger Age:\", youngest_age)\n"
   ]
  },
  {
   "cell_type": "markdown",
   "id": "3adb2b78",
   "metadata": {},
   "source": [
    "3. Boolean Indexing and Filtering: <br>\n",
    "○ Create a boolean array that is True for passengers who paid a Fare greater than 50 and False \n",
    "otherwise. <br>\n",
    "○ Use this boolean array to count how many passengers paid more than 50 for their ticket. <br>\n",
    "○ Display the ages of these high-paying passengers.<br>"
   ]
  },
  {
   "cell_type": "code",
   "execution_count": 58,
   "id": "c7e62a3e",
   "metadata": {},
   "outputs": [
    {
     "name": "stdout",
     "output_type": "stream",
     "text": [
      "Number of passengers who paid > 50: 160\n",
      "Ages of high-paying passengers: [38.   35.   54.   19.   28.   28.   42.   49.   65.   38.   45.   21.\n",
      " 32.   23.   46.   23.   21.   47.   24.   21.   54.   37.   24.   22.\n",
      " 51.   28.   28.   28.   28.   58.   28.   31.   32.   38.   35.   44.\n",
      " 37.   28.   30.   35.   52.   58.   35.   63.   26.   19.    2.   50.\n",
      "  0.92 28.   17.   30.   24.   18.   31.   40.   28.   36.   16.   38.\n",
      " 28.   29.   41.   24.   22.   60.   24.   25.   22.   28.   27.   42.\n",
      " 35.   18.   36.   23.   33.   50.   14.   64.    4.   49.   28.   28.\n",
      " 25.   35.   54.   25.   16.   18.   26.   54.   30.   44.   28.   30.\n",
      " 36.   50.   17.   28.   39.   53.   39.   39.   18.   60.   52.   49.\n",
      " 40.   24.   42.   21.   24.   28.   48.   24.   58.   50.   32.   28.\n",
      " 31.   36.   27.   15.   31.   28.   49.   18.   22.   48.   38.   27.\n",
      " 29.   35.   36.   21.   70.   19.   48.   33.   36.   51.   43.   17.\n",
      " 46.   28.   11.   33.   52.   28.   62.   39.   32.   28.   28.   45.\n",
      " 28.   31.   47.   56.  ]\n"
     ]
    }
   ],
   "source": [
    "high_fare_mask = fares > 50\n",
    "\n",
    "high_fare_count = np.sum(high_fare_mask)\n",
    "print(\"Number of passengers who paid > 50:\", high_fare_count)\n",
    "\n",
    "high_payers_ages = cleaned_ages[high_fare_mask]\n",
    "print(\"Ages of high-paying passengers:\", high_payers_ages)"
   ]
  },
  {
   "cell_type": "markdown",
   "id": "2b6fcffa",
   "metadata": {},
   "source": [
    "Part 2: Pandas Exercises  <br>\n",
    "Use the Pandas library to perform a more in-depth analysis of the Titanic \n",
    "DataFrame. <br>\n",
    "1. Data Loading and Initial Exploration:<br> \n",
    "○ Load the titanic.csv file into a Pandas DataFrame called df.<br> \n",
    "○ Display the last 5 rows of the DataFrame. <br>\n",
    "○ Get a summary of the DataFrame's technical information (column names, data types, non-null \n",
    "counts). "
   ]
  },
  {
   "cell_type": "code",
   "execution_count": 59,
   "id": "b7f27f9e",
   "metadata": {},
   "outputs": [
    {
     "name": "stdout",
     "output_type": "stream",
     "text": [
      "Last 5 rows of the DataFrame:\n",
      "     PassengerId  Survived  Pclass                                      Name  \\\n",
      "886          887         0       2                     Montvila, Rev. Juozas   \n",
      "887          888         1       1              Graham, Miss. Margaret Edith   \n",
      "888          889         0       3  Johnston, Miss. Catherine Helen \"Carrie\"   \n",
      "889          890         1       1                     Behr, Mr. Karl Howell   \n",
      "890          891         0       3                       Dooley, Mr. Patrick   \n",
      "\n",
      "        Sex   Age  SibSp  Parch      Ticket   Fare Cabin Embarked  \n",
      "886    male  27.0      0      0      211536  13.00   NaN        S  \n",
      "887  female  19.0      0      0      112053  30.00   B42        S  \n",
      "888  female   NaN      1      2  W./C. 6607  23.45   NaN        S  \n",
      "889    male  26.0      0      0      111369  30.00  C148        C  \n",
      "890    male  32.0      0      0      370376   7.75   NaN        Q  \n",
      "\n",
      "DataFrame Info:\n",
      "<class 'pandas.core.frame.DataFrame'>\n",
      "RangeIndex: 891 entries, 0 to 890\n",
      "Data columns (total 12 columns):\n",
      " #   Column       Non-Null Count  Dtype  \n",
      "---  ------       --------------  -----  \n",
      " 0   PassengerId  891 non-null    int64  \n",
      " 1   Survived     891 non-null    int64  \n",
      " 2   Pclass       891 non-null    int64  \n",
      " 3   Name         891 non-null    object \n",
      " 4   Sex          891 non-null    object \n",
      " 5   Age          714 non-null    float64\n",
      " 6   SibSp        891 non-null    int64  \n",
      " 7   Parch        891 non-null    int64  \n",
      " 8   Ticket       891 non-null    object \n",
      " 9   Fare         891 non-null    float64\n",
      " 10  Cabin        204 non-null    object \n",
      " 11  Embarked     889 non-null    object \n",
      "dtypes: float64(2), int64(5), object(5)\n",
      "memory usage: 83.7+ KB\n",
      "None\n"
     ]
    }
   ],
   "source": [
    "print(\"Last 5 rows of the DataFrame:\")\n",
    "print(df.tail())\n",
    "\n",
    "\n",
    "print(\"\\nDataFrame Info:\")\n",
    "print(df.info())"
   ]
  },
  {
   "cell_type": "markdown",
   "id": "ccef1387",
   "metadata": {},
   "source": [
    "2. Data Cleaning and Preprocessing: <br>\n",
    "○ The Cabin column has many missing values. Drop this column entirely from the DataFrame.<br> \n",
    "○ Fill the missing values in the Age column using the mean age. <br>\n",
    "○ The Embarked column has a few missing values. Fill them with the mode (the most common \n",
    "port of embarkation). <br>\n",
    "○ Confirm that your DataFrame now has no missing values in any of the remaining columns.<br>"
   ]
  },
  {
   "cell_type": "code",
   "execution_count": 60,
   "id": "a11b27c5",
   "metadata": {},
   "outputs": [
    {
     "name": "stdout",
     "output_type": "stream",
     "text": [
      "\n",
      "Missing values after cleaning:\n",
      "PassengerId    0\n",
      "Survived       0\n",
      "Pclass         0\n",
      "Name           0\n",
      "Sex            0\n",
      "Age            0\n",
      "SibSp          0\n",
      "Parch          0\n",
      "Ticket         0\n",
      "Fare           0\n",
      "Embarked       0\n",
      "dtype: int64\n"
     ]
    },
    {
     "name": "stderr",
     "output_type": "stream",
     "text": [
      "C:\\Users\\adadh\\AppData\\Local\\Temp\\ipykernel_12760\\3295159574.py:3: FutureWarning: A value is trying to be set on a copy of a DataFrame or Series through chained assignment using an inplace method.\n",
      "The behavior will change in pandas 3.0. This inplace method will never work because the intermediate object on which we are setting values always behaves as a copy.\n",
      "\n",
      "For example, when doing 'df[col].method(value, inplace=True)', try using 'df.method({col: value}, inplace=True)' or df[col] = df[col].method(value) instead, to perform the operation inplace on the original object.\n",
      "\n",
      "\n",
      "  df['Age'].fillna(df['Age'].mean(), inplace=True)\n",
      "C:\\Users\\adadh\\AppData\\Local\\Temp\\ipykernel_12760\\3295159574.py:5: FutureWarning: A value is trying to be set on a copy of a DataFrame or Series through chained assignment using an inplace method.\n",
      "The behavior will change in pandas 3.0. This inplace method will never work because the intermediate object on which we are setting values always behaves as a copy.\n",
      "\n",
      "For example, when doing 'df[col].method(value, inplace=True)', try using 'df.method({col: value}, inplace=True)' or df[col] = df[col].method(value) instead, to perform the operation inplace on the original object.\n",
      "\n",
      "\n",
      "  df['Embarked'].fillna(df['Embarked'].mode()[0], inplace=True)\n"
     ]
    }
   ],
   "source": [
    "df.drop(columns=['Cabin'], inplace=True)\n",
    "\n",
    "df['Age'].fillna(df['Age'].mean(), inplace=True)\n",
    "\n",
    "df['Embarked'].fillna(df['Embarked'].mode()[0], inplace=True)\n",
    "\n",
    "print(\"\\nMissing values after cleaning:\")\n",
    "print(df.isnull().sum())"
   ]
  },
  {
   "cell_type": "markdown",
   "id": "31bf438a",
   "metadata": {},
   "source": [
    "3. Feature Engineering:<br> \n",
    "○ Create a new column called FamilySize which is the sum of the SibSp and Parch columns, plus \n",
    "1 (to count the passenger themselves).<br> \n",
    "○ Create a categorical column called AgeGroup. Bin the Age column into the following groups:<br> \n",
    "■ Child: 0-12 <br>\n",
    "■ Teen: 13-19 <br>\n",
    "■ Adult: 20-59 <br>\n",
    "■ Senior: 60+<br>"
   ]
  },
  {
   "cell_type": "code",
   "execution_count": 61,
   "id": "34ff2f95",
   "metadata": {},
   "outputs": [
    {
     "name": "stdout",
     "output_type": "stream",
     "text": [
      "\n",
      "New columns added (FamilySize, AgeGroup).\n"
     ]
    }
   ],
   "source": [
    "\n",
    "df['FamilySize'] = df['SibSp'] + df['Parch'] + 1\n",
    "\n",
    "\n",
    "bins = [0, 12, 19, 59, np.inf]\n",
    "labels = ['Child', 'Teen', 'Adult', 'Senior']\n",
    "df['AgeGroup'] = pd.cut(df['Age'], bins=bins, labels=labels)\n",
    "\n",
    "print(\"\\nNew columns added (FamilySize, AgeGroup).\")\n"
   ]
  },
  {
   "cell_type": "markdown",
   "id": "d7b07b88",
   "metadata": {},
   "source": [
    "4. Data Selection and Querying: <br>\n",
    "○ Display the Name, Sex, and AgeGroup of all passengers who survived. <br>\n",
    "○ Find all female passengers who were in 1st Class (Pclass == 1). <br>\n",
    "○ Select all passengers who embarked from Southampton ('S') and paid a fare less than 10.<br>"
   ]
  },
  {
   "cell_type": "code",
   "execution_count": 62,
   "id": "97cdb6cf",
   "metadata": {},
   "outputs": [
    {
     "name": "stdout",
     "output_type": "stream",
     "text": [
      "\n",
      "Survivors (Name, Sex, AgeGroup):\n",
      "                                                Name     Sex AgeGroup\n",
      "1  Cumings, Mrs. John Bradley (Florence Briggs Th...  female    Adult\n",
      "2                             Heikkinen, Miss. Laina  female    Adult\n",
      "3       Futrelle, Mrs. Jacques Heath (Lily May Peel)  female    Adult\n",
      "8  Johnson, Mrs. Oscar W (Elisabeth Vilhelmina Berg)  female    Adult\n",
      "9                Nasser, Mrs. Nicholas (Adele Achem)  female     Teen\n",
      "\n",
      "Female passengers in 1st Class:\n",
      "    PassengerId  Survived  Pclass  \\\n",
      "1             2         1       1   \n",
      "3             4         1       1   \n",
      "11           12         1       1   \n",
      "31           32         1       1   \n",
      "52           53         1       1   \n",
      "\n",
      "                                                 Name     Sex        Age  \\\n",
      "1   Cumings, Mrs. John Bradley (Florence Briggs Th...  female  38.000000   \n",
      "3        Futrelle, Mrs. Jacques Heath (Lily May Peel)  female  35.000000   \n",
      "11                           Bonnell, Miss. Elizabeth  female  58.000000   \n",
      "31     Spencer, Mrs. William Augustus (Marie Eugenie)  female  29.699118   \n",
      "52           Harper, Mrs. Henry Sleeper (Myna Haxtun)  female  49.000000   \n",
      "\n",
      "    SibSp  Parch    Ticket      Fare Embarked  FamilySize AgeGroup  \n",
      "1       1      0  PC 17599   71.2833        C           2    Adult  \n",
      "3       1      0    113803   53.1000        S           2    Adult  \n",
      "11      0      0    113783   26.5500        S           1    Adult  \n",
      "31      1      0  PC 17569  146.5208        C           2    Adult  \n",
      "52      1      0  PC 17572   76.7292        C           2    Adult  \n",
      "\n",
      "Passengers from Southampton with Fare < 10:\n",
      "    PassengerId  Survived  Pclass                                  Name  \\\n",
      "0             1         0       3               Braund, Mr. Owen Harris   \n",
      "2             3         1       3                Heikkinen, Miss. Laina   \n",
      "4             5         0       3              Allen, Mr. William Henry   \n",
      "12           13         0       3        Saundercock, Mr. William Henry   \n",
      "14           15         0       3  Vestrom, Miss. Hulda Amanda Adolfina   \n",
      "\n",
      "       Sex   Age  SibSp  Parch            Ticket    Fare Embarked  FamilySize  \\\n",
      "0     male  22.0      1      0         A/5 21171  7.2500        S           2   \n",
      "2   female  26.0      0      0  STON/O2. 3101282  7.9250        S           1   \n",
      "4     male  35.0      0      0            373450  8.0500        S           1   \n",
      "12    male  20.0      0      0         A/5. 2151  8.0500        S           1   \n",
      "14  female  14.0      0      0            350406  7.8542        S           1   \n",
      "\n",
      "   AgeGroup  \n",
      "0     Adult  \n",
      "2     Adult  \n",
      "4     Adult  \n",
      "12    Adult  \n",
      "14     Teen  \n"
     ]
    }
   ],
   "source": [
    "\n",
    "print(\"\\nSurvivors (Name, Sex, AgeGroup):\")\n",
    "print(df.loc[df['Survived'] == 1, ['Name', 'Sex', 'AgeGroup']].head())\n",
    "\n",
    "\n",
    "print(\"\\nFemale passengers in 1st Class:\")\n",
    "print(df[(df['Sex'] == 'female') & (df['Pclass'] == 1)].head())\n",
    "\n",
    "\n",
    "print(\"\\nPassengers from Southampton with Fare < 10:\")\n",
    "print(df[(df['Embarked'] == 'S') & (df['Fare'] < 10)].head())"
   ]
  },
  {
   "cell_type": "markdown",
   "id": "f7d463c3",
   "metadata": {},
   "source": [
    "5. Grouping and Aggregation (Groupby): <br>\n",
    "○ What was the average age of passengers who survived versus those who did not? (Hint: Group \n",
    "by the Survived column). <br>\n",
    "○ Group the DataFrame by Pclass and Sex. For each group, calculate the survival rate (the mean \n",
    "of the Survived column). This will show you the survival probability for men and women in \n",
    "each class."
   ]
  },
  {
   "cell_type": "code",
   "execution_count": 63,
   "id": "c70eee2d",
   "metadata": {},
   "outputs": [
    {
     "name": "stdout",
     "output_type": "stream",
     "text": [
      "\n",
      "Average Age (Survived vs Not Survived):\n",
      "Survived\n",
      "0    30.415100\n",
      "1    28.549778\n",
      "Name: Age, dtype: float64\n",
      "\n",
      "Survival rate by Class and Sex:\n",
      "Pclass  Sex   \n",
      "1       female    0.968085\n",
      "        male      0.368852\n",
      "2       female    0.921053\n",
      "        male      0.157407\n",
      "3       female    0.500000\n",
      "        male      0.135447\n",
      "Name: Survived, dtype: float64\n"
     ]
    }
   ],
   "source": [
    "\n",
    "avg_age_survival = df.groupby('Survived')['Age'].mean()\n",
    "print(\"\\nAverage Age (Survived vs Not Survived):\")\n",
    "print(avg_age_survival)\n",
    "\n",
    "\n",
    "survival_rate = df.groupby(['Pclass', 'Sex'])['Survived'].mean()\n",
    "print(\"\\nSurvival rate by Class and Sex:\")\n",
    "print(survival_rate)\n"
   ]
  },
  {
   "cell_type": "markdown",
   "id": "13520aff",
   "metadata": {},
   "source": [
    "6. Exporting the Final DataFrame: <br>\n",
    "○ Save your final, cleaned DataFrame with the new FamilySize and AgeGroup columns to a new \n",
    "CSV file named titanic_processed.csv. Do not include the pandas index in the file."
   ]
  },
  {
   "cell_type": "code",
   "execution_count": 64,
   "id": "eb08fe26",
   "metadata": {},
   "outputs": [
    {
     "name": "stdout",
     "output_type": "stream",
     "text": [
      "\n",
      "Final cleaned DataFrame saved as titanic_processed.csv\n"
     ]
    }
   ],
   "source": [
    "df.to_csv(\"titanic_processed.csv\", index=False)\n",
    "print(\"\\nFinal cleaned DataFrame saved as titanic_processed.csv\")"
   ]
  }
 ],
 "metadata": {
  "kernelspec": {
   "display_name": "Python 3",
   "language": "python",
   "name": "python3"
  },
  "language_info": {
   "codemirror_mode": {
    "name": "ipython",
    "version": 3
   },
   "file_extension": ".py",
   "mimetype": "text/x-python",
   "name": "python",
   "nbconvert_exporter": "python",
   "pygments_lexer": "ipython3",
   "version": "3.11.9"
  }
 },
 "nbformat": 4,
 "nbformat_minor": 5
}
